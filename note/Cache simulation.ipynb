{
 "cells": [
  {
   "cell_type": "markdown",
   "metadata": {},
   "source": [
    "### Caching\n",
    "Storing results in a hashtable in order to save for later\n",
    "Frequent things do not need to be re computed\n",
    "\n",
    "- browser, database, Google/IR\n",
    "\n",
    "#### Cache Invalidation\n",
    "When shoud we delete things. Gnerally by guessing\n",
    "\n",
    "### Hit rate\n",
    "Look up N things, find k things hite rate=k/N\n",
    "    ~= How many thigns found/ how many tiems tried\n",
    "    \n",
    "### Optimize\n",
    "#### Just turn the fixed size hap map inot unfixed one\n",
    "- Linked hash map ->  can turn easily into FIFO \n",
    "- FIFO -> When need more space, kick put the oldest\n",
    "     - May or may not be good depending on the list\n",
    "     - Have to make te data random. Consider [A B C D A B C D] and a FIFO list of size 3\n",
    "         - miss rate 100%\n",
    "     \n",
    "#### Random\n",
    "- Fair\n",
    "\n",
    "#### Least Recently Used (LRU)\n",
    "- Close the tab haven't touched for the most time\n",
    "\n",
    "#### Least Frequently Used (LFU)\n",
    "- Count the times a slot has a hit and always kick out the least popular\n",
    "\n",
    "\n"
   ]
  },
  {
   "cell_type": "code",
   "execution_count": 10,
   "metadata": {},
   "outputs": [
    {
     "data": {
      "text/plain": [
       "(124592, 'pride and prejudice, by jane austen')"
      ]
     },
     "execution_count": 10,
     "metadata": {},
     "output_type": "execute_result"
    }
   ],
   "source": [
    "import urllib.request\n",
    "# https://www.gutenberg.org/ebooks/42671\n",
    "DATA_URL = \"http://www.gutenberg.org/files/1342/1342-0.txt\"\n",
    "\n",
    "data = []\n",
    "\n",
    "for line in urllib.request.urlopen(DATA_URL):\n",
    "    data.extend([w.decode('utf-8-sig') for w in line.strip().lower().split()])\n",
    "len(data), ' '.join(data[5:11])"
   ]
  },
  {
   "cell_type": "code",
   "execution_count": 11,
   "metadata": {},
   "outputs": [
    {
     "ename": "ModuleNotFoundError",
     "evalue": "No module named 'tqdm'",
     "output_type": "error",
     "traceback": [
      "\u001b[0;31m---------------------------------------------------------------------------\u001b[0m",
      "\u001b[0;31mModuleNotFoundError\u001b[0m                       Traceback (most recent call last)",
      "\u001b[0;32m<ipython-input-11-1d46f86dd9b7>\u001b[0m in \u001b[0;36m<module>\u001b[0;34m\u001b[0m\n\u001b[1;32m      1\u001b[0m \u001b[0;32mimport\u001b[0m \u001b[0mtime\u001b[0m\u001b[0;34m\u001b[0m\u001b[0;34m\u001b[0m\u001b[0m\n\u001b[0;32m----> 2\u001b[0;31m \u001b[0;32mfrom\u001b[0m \u001b[0mtqdm\u001b[0m \u001b[0;32mimport\u001b[0m \u001b[0mtqdm_notebook\u001b[0m \u001b[0;32mas\u001b[0m \u001b[0mtqdm\u001b[0m\u001b[0;34m\u001b[0m\u001b[0;34m\u001b[0m\u001b[0m\n\u001b[0m\u001b[1;32m      3\u001b[0m \u001b[0;32mimport\u001b[0m \u001b[0mrandom\u001b[0m\u001b[0;34m\u001b[0m\u001b[0;34m\u001b[0m\u001b[0m\n\u001b[1;32m      4\u001b[0m \u001b[0;34m\u001b[0m\u001b[0m\n\u001b[1;32m      5\u001b[0m \u001b[0;31m# This simulated slot in a cache keeps track of timing and usages.\u001b[0m\u001b[0;34m\u001b[0m\u001b[0;34m\u001b[0m\u001b[0;34m\u001b[0m\u001b[0m\n",
      "\u001b[0;31mModuleNotFoundError\u001b[0m: No module named 'tqdm'"
     ]
    }
   ],
   "source": [
    "import time\n",
    "from tqdm import tqdm_notebook as tqdm\n",
    "import random\n",
    "\n",
    "# This simulated slot in a cache keeps track of timing and usages.\n",
    "class CacheSlot(object):\n",
    "  def __init__(self):\n",
    "    self.used = False\n",
    "    self.get_time = time.time()\n",
    "    self.replaced_time = time.time()\n",
    "    self.uses = 0\n",
    "    self.key = None\n",
    "  def replace(self, key):\n",
    "    self.key = key\n",
    "    self.replaced_time = time.time()\n",
    "    self.uses = 0\n",
    "  def get(self):\n",
    "    self.get_time = time.time()\n",
    "    self.uses += 1\n",
    "\n",
    "# Configure the number of buckets available when you make a new WordCache\n",
    "class WordCache(object):\n",
    "  def __init__(self, num_buckets = 1000, algorithm=\"LRU\"):\n",
    "    self.algorithm = algorithm.lower()\n",
    "    self.num_buckets = num_buckets\n",
    "    self.empty_spots = [CacheSlot() for _ in range(num_buckets)]\n",
    "    self.used_spots = []\n",
    "    self.misses = 0\n",
    "    self.hits = 0\n",
    "    self.accesses = 0\n",
    "    self.mapping = {}\n",
    "  def lookup(self, key):\n",
    "    self.accesses += 1\n",
    "    if key in self.mapping:\n",
    "      slot = self.mapping[key]\n",
    "      if slot.key == key:\n",
    "        slot.get()\n",
    "        self.hits += 1\n",
    "        return True\n",
    "    self.insert(key)\n",
    "    self.misses += 1\n",
    "    return False\n",
    "  \n",
    "  \n",
    "  def find_lru(self):\n",
    "    ## Sort by the get_time of the latest algorithm:\n",
    "    (_lru_time, lru_idx) = min((s.get_time, i) for (i, s) in enumerate(self.used_spots))\n",
    "    return lru_idx\n",
    "  \n",
    "  def find_lfu(self):\n",
    "    ## Sort by the get_time of the latest algorithm:\n",
    "    (_lfu_time, lfu_idx) = min((s.uses, i) for (i, s) in enumerate(self.used_spots))\n",
    "    return lfu_idx\n",
    "  \n",
    "  def find_random(self):\n",
    "    ## return a random one from all used spots\n",
    "    return random.randint(0, len(self.used_spots)-1)  \n",
    "  \n",
    "  def find_fifo(self):\n",
    "    ## return the oldest used spot\n",
    "    return min((s.replaced_time, i) for (i, s) in enumerate(self.used_spots))[1]\n",
    "  \n",
    "  def insert(self, key):\n",
    "    slot = None\n",
    "    if len(self.empty_spots) != 0:\n",
    "      slot = self.empty_spots.pop()\n",
    "      self.used_spots.append(slot)\n",
    "    else:\n",
    "      if self.algorithm == \"lru\":\n",
    "        slot = self.used_spots[self.find_lru()]\n",
    "      elif self.algorithm == \"random\":\n",
    "        slot = self.used_spots[self.find_random()]\n",
    "      elif self.algorithm == \"fifo\":\n",
    "        slot = self.used_spots[self.find_fifo()]\n",
    "      elif self.algorithm == \"lfu\":\n",
    "        slot = self.used_spots[self.find_lfu()]\n",
    "      else:\n",
    "        raise ValueError(algorithm)\n",
    "    if slot.key is not None:\n",
    "      del self.mapping[slot.key]\n",
    "    self.mapping[key] = slot\n",
    "    slot.replace(key)\n",
    "    \n",
    "# Test on a small set of data.\n",
    "cache = WordCache()\n",
    "\n",
    "# Don't use the whole set of data for speed (test that there are no python errors in a print-friendly way)\n",
    "for w in tqdm(data[:100]):\n",
    "  cache.lookup(w)\n",
    "\n",
    "# The two things we care about are hit-ratio and miss-ratio.\n",
    "print(\"MISS RATIO: %1.3f\" % (cache.misses / cache.accesses))\n",
    "print(\"HIT RATIO: %1.3f\" % (cache.hits / cache.accesses))"
   ]
  },
  {
   "cell_type": "code",
   "execution_count": 12,
   "metadata": {},
   "outputs": [],
   "source": [
    "import matplotlib.pyplot as plt"
   ]
  },
  {
   "cell_type": "code",
   "execution_count": 13,
   "metadata": {},
   "outputs": [
    {
     "ename": "NameError",
     "evalue": "name 'WordCache' is not defined",
     "output_type": "error",
     "traceback": [
      "\u001b[0;31m---------------------------------------------------------------------------\u001b[0m",
      "\u001b[0;31mNameError\u001b[0m                                 Traceback (most recent call last)",
      "\u001b[0;32m<ipython-input-13-76152e1487ff>\u001b[0m in \u001b[0;36m<module>\u001b[0;34m\u001b[0m\n\u001b[1;32m      3\u001b[0m \u001b[0;34m\u001b[0m\u001b[0m\n\u001b[1;32m      4\u001b[0m \u001b[0;31m#test on the full set of data:\u001b[0m\u001b[0;34m\u001b[0m\u001b[0;34m\u001b[0m\u001b[0;34m\u001b[0m\u001b[0m\n\u001b[0;32m----> 5\u001b[0;31m \u001b[0mcache\u001b[0m \u001b[0;34m=\u001b[0m \u001b[0mWordCache\u001b[0m\u001b[0;34m(\u001b[0m\u001b[0mnum_buckets\u001b[0m\u001b[0;34m=\u001b[0m\u001b[0mN\u001b[0m\u001b[0;34m,\u001b[0m \u001b[0malgorithm\u001b[0m\u001b[0;34m=\u001b[0m\u001b[0;34m\"fifo\"\u001b[0m\u001b[0;34m)\u001b[0m\u001b[0;34m\u001b[0m\u001b[0;34m\u001b[0m\u001b[0m\n\u001b[0m\u001b[1;32m      6\u001b[0m \u001b[0;34m\u001b[0m\u001b[0m\n\u001b[1;32m      7\u001b[0m \u001b[0;32mfor\u001b[0m \u001b[0mw\u001b[0m \u001b[0;32min\u001b[0m \u001b[0mtqdm\u001b[0m\u001b[0;34m(\u001b[0m\u001b[0mdata\u001b[0m\u001b[0;34m)\u001b[0m\u001b[0;34m:\u001b[0m\u001b[0;34m\u001b[0m\u001b[0;34m\u001b[0m\u001b[0m\n",
      "\u001b[0;31mNameError\u001b[0m: name 'WordCache' is not defined"
     ]
    }
   ],
   "source": [
    "# How big should the cache be?\n",
    "N = 1000\n",
    "\n",
    "#test on the full set of data:\n",
    "cache = WordCache(num_buckets=N, algorithm=\"fifo\")\n",
    "\n",
    "for w in tqdm(data):\n",
    "  cache.lookup(w)\n",
    "\n",
    "print(\"HIT RATIO: %1.3f\" % (cache.hits / cache.accesses))"
   ]
  },
  {
   "cell_type": "code",
   "execution_count": 14,
   "metadata": {},
   "outputs": [
    {
     "ename": "NameError",
     "evalue": "name 'hits' is not defined",
     "output_type": "error",
     "traceback": [
      "\u001b[0;31m---------------------------------------------------------------------------\u001b[0m",
      "\u001b[0;31mNameError\u001b[0m                                 Traceback (most recent call last)",
      "\u001b[0;32m<ipython-input-14-d7ea74111ca0>\u001b[0m in \u001b[0;36m<module>\u001b[0;34m\u001b[0m\n\u001b[1;32m     19\u001b[0m   \u001b[0;32mreturn\u001b[0m \u001b[0mhits\u001b[0m\u001b[0;34m/\u001b[0m\u001b[0maccesses\u001b[0m\u001b[0;34m\u001b[0m\u001b[0;34m\u001b[0m\u001b[0m\n\u001b[1;32m     20\u001b[0m \u001b[0;34m\u001b[0m\u001b[0m\n\u001b[0;32m---> 21\u001b[0;31m \u001b[0mprint\u001b[0m\u001b[0;34m(\u001b[0m\u001b[0;34m\"HIT RATIO: %1.3f\"\u001b[0m \u001b[0;34m%\u001b[0m \u001b[0;34m(\u001b[0m\u001b[0mhits\u001b[0m \u001b[0;34m/\u001b[0m \u001b[0maccesses\u001b[0m\u001b[0;34m)\u001b[0m\u001b[0;34m)\u001b[0m\u001b[0;34m\u001b[0m\u001b[0;34m\u001b[0m\u001b[0m\n\u001b[0m\u001b[1;32m     22\u001b[0m \u001b[0mNs\u001b[0m \u001b[0;34m=\u001b[0m \u001b[0;34m[\u001b[0m\u001b[0;36m1\u001b[0m\u001b[0;34m,\u001b[0m\u001b[0;36m10\u001b[0m\u001b[0;34m,\u001b[0m\u001b[0;36m500\u001b[0m\u001b[0;34m,\u001b[0m\u001b[0;36m1000\u001b[0m\u001b[0;34m,\u001b[0m\u001b[0;36m5000\u001b[0m\u001b[0;34m]\u001b[0m\u001b[0;34m\u001b[0m\u001b[0;34m\u001b[0m\u001b[0m\n\u001b[1;32m     23\u001b[0m \u001b[0mratios\u001b[0m \u001b[0;34m=\u001b[0m \u001b[0;34m[\u001b[0m\u001b[0mhit_ratio\u001b[0m\u001b[0;34m(\u001b[0m\u001b[0mx\u001b[0m\u001b[0;34m)\u001b[0m \u001b[0;32mfor\u001b[0m \u001b[0mx\u001b[0m \u001b[0;32min\u001b[0m \u001b[0mNs\u001b[0m\u001b[0;34m]\u001b[0m\u001b[0;34m\u001b[0m\u001b[0;34m\u001b[0m\u001b[0m\n",
      "\u001b[0;31mNameError\u001b[0m: name 'hits' is not defined"
     ]
    }
   ],
   "source": [
    "# Cheating experiment: look at the frequency of the dataset and then choose the most popular.\n",
    "\n",
    "from collections import Counter\n",
    "frequencies = Counter(data)\n",
    "\n",
    "def hit_ratio(N):\n",
    "  topN = sorted([(v,k) for (k,v) in frequencies.items()], reverse=True)[:N]\n",
    "  static_by_frequency = dict((k,v) for (v,k) in topN)\n",
    "\n",
    "  # test on the full set of data (warm cache)\n",
    "  hits = 0\n",
    "  accesses = len(data)\n",
    "  misses = 0\n",
    "  for w in tqdm(data):\n",
    "    if w in static_by_frequency:\n",
    "      hits+=1\n",
    "    else:\n",
    "      misses += 1\n",
    "  return hits/accesses\n",
    "\n",
    "print(\"HIT RATIO: %1.3f\" % (hits / accesses))\n",
    "Ns = [1,10,500,1000,5000]\n",
    "ratios = [hit_ratio(x) for x in Ns]\n",
    "plt.plot(Ns,ratios)"
   ]
  },
  {
   "cell_type": "code",
   "execution_count": null,
   "metadata": {},
   "outputs": [],
   "source": []
  },
  {
   "cell_type": "code",
   "execution_count": null,
   "metadata": {},
   "outputs": [],
   "source": []
  },
  {
   "cell_type": "code",
   "execution_count": null,
   "metadata": {},
   "outputs": [],
   "source": []
  }
 ],
 "metadata": {
  "kernelspec": {
   "display_name": "Python 3",
   "language": "python",
   "name": "python3"
  },
  "language_info": {
   "codemirror_mode": {
    "name": "ipython",
    "version": 3
   },
   "file_extension": ".py",
   "mimetype": "text/x-python",
   "name": "python",
   "nbconvert_exporter": "python",
   "pygments_lexer": "ipython3",
   "version": "3.7.2"
  }
 },
 "nbformat": 4,
 "nbformat_minor": 2
}
